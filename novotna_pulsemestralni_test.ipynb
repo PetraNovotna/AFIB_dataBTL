{
  "nbformat": 4,
  "nbformat_minor": 0,
  "metadata": {
    "colab": {
      "name": "novotna_pulsemestralni_test.ipynb",
      "provenance": [],
      "mount_file_id": "1qe6xw3xXBJwJag0zuRFcGAjrptvs9SFL",
      "authorship_tag": "ABX9TyPZx5GYEfiE0z9sLM615doA",
      "include_colab_link": true
    },
    "kernelspec": {
      "name": "python3",
      "display_name": "Python 3"
    }
  },
  "cells": [
    {
      "cell_type": "markdown",
      "metadata": {
        "id": "view-in-github",
        "colab_type": "text"
      },
      "source": [
        "<a href=\"https://colab.research.google.com/github/PetraNovotna/AFIB_dataBTL/blob/master/novotna_pulsemestralni_test.ipynb\" target=\"_parent\"><img src=\"https://colab.research.google.com/assets/colab-badge.svg\" alt=\"Open In Colab\"/></a>"
      ]
    },
    {
      "cell_type": "code",
      "metadata": {
        "id": "ZnQ0FutIe5ui",
        "colab_type": "code",
        "outputId": "502b5b19-f351-4461-d956-015dd630aa8e",
        "colab": {
          "base_uri": "https://localhost:8080/",
          "height": 34
        }
      },
      "source": [
        "print(\"Hello, world!\")"
      ],
      "execution_count": 0,
      "outputs": [
        {
          "output_type": "stream",
          "text": [
            "Hello, world!\n"
          ],
          "name": "stdout"
        }
      ]
    },
    {
      "cell_type": "code",
      "metadata": {
        "id": "cR4ad1GqsT6a",
        "colab_type": "code",
        "colab": {
          "base_uri": "https://localhost:8080/",
          "height": 34
        },
        "outputId": "57d04245-062f-42f7-e7df-1921fbbc84f5"
      },
      "source": [
        "print(\"Druhej print.\")"
      ],
      "execution_count": 2,
      "outputs": [
        {
          "output_type": "stream",
          "text": [
            "Druhej print.\n"
          ],
          "name": "stdout"
        }
      ]
    }
  ]
}