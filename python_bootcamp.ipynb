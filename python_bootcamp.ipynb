{
  "nbformat": 4,
  "nbformat_minor": 0,
  "metadata": {
    "colab": {
      "name": "python_bootcamp.ipynb",
      "provenance": [],
      "mount_file_id": "1-2536BhuAq7lGwlDTAJMIxnoq2z4WBI7",
      "authorship_tag": "ABX9TyOsuNZ1tcd+QvqB5A7JOqSE",
      "include_colab_link": true
    },
    "kernelspec": {
      "name": "python3",
      "display_name": "Python 3"
    }
  },
  "cells": [
    {
      "cell_type": "markdown",
      "metadata": {
        "id": "view-in-github",
        "colab_type": "text"
      },
      "source": [
        "<a href=\"https://colab.research.google.com/github/PetraNovotna/AFIB_dataBTL/blob/master/python_bootcamp.ipynb\" target=\"_parent\"><img src=\"https://colab.research.google.com/assets/colab-badge.svg\" alt=\"Open In Colab\"/></a>"
      ]
    },
    {
      "cell_type": "code",
      "metadata": {
        "id": "E-k-HOthzcVy",
        "colab_type": "code",
        "colab": {
          "base_uri": "https://localhost:8080/",
          "height": 34
        },
        "outputId": "577fa6a5-01c2-4bd7-ab25-858630d3b641"
      },
      "source": [
        "%%writefile my_new_file.txt\n",
        "ONE ON FIRST "
      ],
      "execution_count": 11,
      "outputs": [
        {
          "output_type": "stream",
          "text": [
            "Overwriting my_new_file.txt\n"
          ],
          "name": "stdout"
        }
      ]
    },
    {
      "cell_type": "code",
      "metadata": {
        "id": "by9X02TXhxKi",
        "colab_type": "code",
        "colab": {
          "base_uri": "https://localhost:8080/",
          "height": 51
        },
        "outputId": "d37d4a1a-2dc9-4a93-90fe-3525b51853bd"
      },
      "source": [
        "with open(\"my_new_file.txt\",mode=\"r\") as f:\n",
        "    print(f.read())"
      ],
      "execution_count": 17,
      "outputs": [
        {
          "output_type": "stream",
          "text": [
            "\n",
            "TWO ON TWO\n"
          ],
          "name": "stdout"
        }
      ]
    },
    {
      "cell_type": "code",
      "metadata": {
        "id": "oIn2RO7-iGAg",
        "colab_type": "code",
        "colab": {}
      },
      "source": [
        "with open(\"my_new_file.txt\",mode=\"a\") as f:\n",
        "    f.write(\"\\nTWO ON TWO\")"
      ],
      "execution_count": 18,
      "outputs": []
    },
    {
      "cell_type": "code",
      "metadata": {
        "id": "MjqJJuBLkmF5",
        "colab_type": "code",
        "colab": {
          "base_uri": "https://localhost:8080/",
          "height": 68
        },
        "outputId": "66dd4772-b963-4dda-cf32-1508e4406372"
      },
      "source": [
        "with open(\"my_new_file.txt\",mode=\"r\") as f:\n",
        "    print(f.read())"
      ],
      "execution_count": 19,
      "outputs": [
        {
          "output_type": "stream",
          "text": [
            "\n",
            "TWO ON TWO\n",
            "TWO ON TWO\n"
          ],
          "name": "stdout"
        }
      ]
    }
  ]
}